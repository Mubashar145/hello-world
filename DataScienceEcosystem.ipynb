{
  "cells": [
    {
      "cell_type": "markdown",
      "metadata": {
        "collapsed": true,
        "id": "dOiMg1uUGWAy"
      },
      "source": [
        "# Data Science Tools and Ecosystem"
      ]
    },
    {
      "cell_type": "markdown",
      "metadata": {
        "id": "3l2FyfkpGWBC"
      },
      "source": [
        "In this notebook, Data Science Tools and Ecosystem are summarized.\n"
      ]
    },
    {
      "cell_type": "markdown",
      "metadata": {
        "id": "AqqPHAK-GWBD"
      },
      "source": [
        "**Some of the popular languages that Data Scientists use are:**\n",
        "1. python\n",
        "2. SQL\n",
        "3. R"
      ]
    },
    {
      "cell_type": "markdown",
      "metadata": {
        "id": "LmXEY0lcGWBF"
      },
      "source": [
        "**Some of the commonly used libraries used by Data Scientists include:**\n",
        "\n",
        " 1. TensorFlow.\n",
        " 2. SciPy.\n",
        " 3. NumPy.\n",
        " 4. Pandas.\n",
        " 5. Pytorch"
      ]
    },
    {
      "cell_type": "markdown",
      "metadata": {
        "id": "ZRthawg0GWBG"
      },
      "source": [
        "**Data Science Tools**\n",
        "|Data Science Tools|\n",
        "|-|\n",
        "|Jupyter Notebook|\n",
        "|RStudio|\n",
        "|Apache Spark|\n"
      ]
    },
    {
      "cell_type": "markdown",
      "metadata": {
        "id": "03m-jnDpGWBH"
      },
      "source": [
        "### Below are a few examples of evaluating arithmetic expressions in Python.\n"
      ]
    },
    {
      "cell_type": "code",
      "execution_count": null,
      "metadata": {
        "id": "OfGHSTDVGWBI",
        "outputId": "6957b79f-a534-430f-a1c4-d03f31246689"
      },
      "outputs": [
        {
          "name": "stdout",
          "output_type": "stream",
          "text": "17\nTrue\n"
        }
      ],
      "source": [
        "# This a simple arithmetic expression to mutiply then add integers\n",
        "eval = (3*4)+5\n",
        "print(eval)\n",
        "print(eval==17)"
      ]
    },
    {
      "cell_type": "code",
      "execution_count": null,
      "metadata": {
        "id": "Gf84Y5F0GWBN",
        "outputId": "64c70efd-a074-4753-fecc-aaa4514aaf93"
      },
      "outputs": [
        {
          "name": "stdout",
          "output_type": "stream",
          "text": "33.333333333333336\n"
        }
      ],
      "source": [
        "# This will convert 200 minutes to hours by diving by 60\n",
        "print(200 / 6)"
      ]
    },
    {
      "cell_type": "markdown",
      "metadata": {
        "id": "mMTIcIxVGWBP"
      },
      "source": [
        "**Objectives:**\n",
        "List popular languages for Data Science.\n",
        "- Python\n",
        "- SQL\n",
        "- R"
      ]
    },
    {
      "cell_type": "markdown",
      "metadata": {
        "id": "emKBSQxTGWBQ"
      },
      "source": [
        "## Author"
      ]
    },
    {
      "cell_type": "markdown",
      "metadata": {
        "id": "-XoF5XTuGWBR"
      },
      "source": [
        "name : Mubashar, Mehmood"
      ]
    },
    {
      "cell_type": "code",
      "execution_count": null,
      "metadata": {
        "id": "dEJlzWlAGWBS"
      },
      "outputs": [],
      "source": []
    }
  ],
  "metadata": {
    "kernelspec": {
      "display_name": "Python 3.10",
      "language": "python",
      "name": "python3"
    },
    "language_info": {
      "codemirror_mode": {
        "name": "ipython",
        "version": 3
      },
      "file_extension": ".py",
      "mimetype": "text/x-python",
      "name": "python",
      "nbconvert_exporter": "python",
      "pygments_lexer": "ipython3",
      "version": "3.10.6"
    },
    "colab": {
      "provenance": []
    }
  },
  "nbformat": 4,
  "nbformat_minor": 0
}